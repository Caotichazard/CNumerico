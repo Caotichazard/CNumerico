{
 "cells": [
  {
   "cell_type": "code",
   "execution_count": 1,
   "metadata": {},
   "outputs": [],
   "source": [
    "import numpy as np\n",
    "import math"
   ]
  },
  {
   "cell_type": "code",
   "execution_count": 13,
   "metadata": {},
   "outputs": [],
   "source": [
    "def func_main(x):#definir aqui a função principal\n",
    "    return x**2 - 1.78\n",
    "\n",
    "def func_phi(x):#definir aqui a derivada da função principal\n",
    "    return 2*x\n",
    "\n",
    "def func_iter(x):\n",
    "    return x - (func_main(x)/func_phi(x))"
   ]
  },
  {
   "cell_type": "code",
   "execution_count": 17,
   "metadata": {},
   "outputs": [],
   "source": [
    "def newton_raphson(x0,ite):\n",
    "    chute = x0\n",
    "    for i in range(ite):\n",
    "        ret_main = func_main(chute)\n",
    "        print(\"Iteração\",i,\": \",\"f(x) = \",ret_main, \"||\",\"chute =\",chute)\n",
    "        chute = func_iter(chute)\n",
    "       "
   ]
  },
  {
   "cell_type": "code",
   "execution_count": 18,
   "metadata": {},
   "outputs": [
    {
     "name": "stdout",
     "output_type": "stream",
     "text": [
      "Iteração 0 :  f(x) =  2.6720999999999995 || chute = 2.11\n",
      "Iteração 1 :  f(x) =  0.4009410396217514 || chute = 1.4768009478672985\n",
      "Iteração 2 :  f(x) =  0.01842710489789856 || chute = 1.3410544749926823\n"
     ]
    }
   ],
   "source": [
    "newton_raphson(2.11,3)"
   ]
  },
  {
   "cell_type": "code",
   "execution_count": null,
   "metadata": {},
   "outputs": [],
   "source": []
  }
 ],
 "metadata": {
  "kernelspec": {
   "display_name": "Python 3",
   "language": "python",
   "name": "python3"
  },
  "language_info": {
   "codemirror_mode": {
    "name": "ipython",
    "version": 3
   },
   "file_extension": ".py",
   "mimetype": "text/x-python",
   "name": "python",
   "nbconvert_exporter": "python",
   "pygments_lexer": "ipython3",
   "version": "3.8.2"
  }
 },
 "nbformat": 4,
 "nbformat_minor": 4
}
