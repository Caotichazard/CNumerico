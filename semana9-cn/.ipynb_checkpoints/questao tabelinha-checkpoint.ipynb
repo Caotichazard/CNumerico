{
 "cells": [
  {
   "cell_type": "code",
   "execution_count": 30,
   "metadata": {},
   "outputs": [],
   "source": [
    "import numpy as np"
   ]
  },
  {
   "cell_type": "code",
   "execution_count": 1,
   "metadata": {},
   "outputs": [],
   "source": [
    "## se na questão tiver uma formula do tipo ϕ(x)=a1cos(x)+a2sin(x) g1 = cos(x) e g2 = sin(x)\n",
    "\n",
    "def g1(x):\n",
    "    return 1\n",
    "\n",
    "def g2(x):\n",
    "    return np.exp(-x)"
   ]
  },
  {
   "cell_type": "code",
   "execution_count": 49,
   "metadata": {},
   "outputs": [],
   "source": [
    "arr_x = [-0.6975,-0.6762,0.0176,0.4512,0.7559]\n",
    "arr_y = [2.0840,2.0330,0.8472,0.6773,0.4318]\n",
    "\n",
    "#arr_x = [1.7,3.6,5.7,7.2]\n",
    "#arr_y = [8.6,1.6,8.7,6.5]"
   ]
  },
  {
   "cell_type": "code",
   "execution_count": 50,
   "metadata": {},
   "outputs": [],
   "source": [
    "def somg1pow2(list_x):\n",
    "    soma = 0\n",
    "    for x in list_x:\n",
    "        soma = soma + g1(x)**2\n",
    "    return soma\n",
    "def somg1g2(list_x):\n",
    "    soma = 0\n",
    "    for x in list_x:\n",
    "        soma = soma + g1(x)*g2(x)\n",
    "    return soma\n",
    "def somg1yi(list_x,list_y):\n",
    "    soma = 0\n",
    "    for i in range(len(list_x)):\n",
    "        soma  = soma + g1(list_x[i])*list_y[i]\n",
    "    return soma\n",
    "def somg2pow2(list_x):\n",
    "    soma = 0\n",
    "    for x in list_x:\n",
    "        soma = soma + g2(x)**2\n",
    "    return soma\n",
    "def somg2yi(list_x,list_y):\n",
    "    soma = 0\n",
    "    for i in range(len(list_x)):\n",
    "        soma  = soma + g2(list_x[i])*list_y[i]\n",
    "    return soma"
   ]
  },
  {
   "cell_type": "code",
   "execution_count": 52,
   "metadata": {},
   "outputs": [
    {
     "name": "stdout",
     "output_type": "stream",
     "text": [
      "[-0.08100655  1.06830531]\n"
     ]
    }
   ],
   "source": [
    "x = somg1pow2(arr_x)\n",
    "y = somg1g2(arr_x)\n",
    "z = somg1yi(arr_x,arr_y)\n",
    "w = y\n",
    "v = somg2pow2(arr_x)\n",
    "k = somg2yi(arr_x,arr_y)\n",
    "\n",
    "## x * a1 + y * a2 = z\n",
    "## w * a1 + v * a2 = k\n",
    "\n",
    "a = np.array([[x,y], [w,v]])\n",
    "b = np.array([z,k])\n",
    "r = np.linalg.solve(a, b)\n",
    "## r = [a1, a2]\n",
    "print(r)"
   ]
  }
 ],
 "metadata": {
  "kernelspec": {
   "display_name": "Python 3",
   "language": "python",
   "name": "python3"
  },
  "language_info": {
   "codemirror_mode": {
    "name": "ipython",
    "version": 3
   },
   "file_extension": ".py",
   "mimetype": "text/x-python",
   "name": "python",
   "nbconvert_exporter": "python",
   "pygments_lexer": "ipython3",
   "version": "3.8.5"
  }
 },
 "nbformat": 4,
 "nbformat_minor": 4
}
