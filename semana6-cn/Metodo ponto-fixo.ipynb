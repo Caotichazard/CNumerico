{
 "cells": [
  {
   "cell_type": "code",
   "execution_count": 41,
   "metadata": {},
   "outputs": [],
   "source": [
    "import numpy as np\n",
    "import math"
   ]
  },
  {
   "cell_type": "code",
   "execution_count": 48,
   "metadata": {},
   "outputs": [],
   "source": [
    "def func_main(x):\n",
    "    return x - (math.e**(-x))\n",
    "    \n",
    "def func_phi(x):    \n",
    "    return (math.e**(-x))"
   ]
  },
  {
   "cell_type": "code",
   "execution_count": 49,
   "metadata": {},
   "outputs": [],
   "source": [
    "def ponto_fixo(chute,count):\n",
    "    ret_main = 0\n",
    "    ret_phi = 0 \n",
    "    #chute = (min_i+max_i)/2\n",
    "    while count > 0:\n",
    "        ret_phi = func_phi(chute)\n",
    "        ret_main = func_main(chute)\n",
    "        \n",
    "        \n",
    "        print(\"Iteração:\")\n",
    "        print(ret_main, ret_phi ,0-ret_main)\n",
    "        \n",
    "        chute = ret_phi\n",
    "        count -= 1\n",
    "    "
   ]
  },
  {
   "cell_type": "code",
   "execution_count": 58,
   "metadata": {},
   "outputs": [
    {
     "name": "stdout",
     "output_type": "stream",
     "text": [
      "Iteração:\n",
      "-1.0 1.0 1.0\n",
      "Iteração:\n",
      "0.6321205588285577 0.36787944117144233 -0.6321205588285577\n",
      "Iteração:\n",
      "-0.32432118638390406 0.6922006275553464 0.32432118638390406\n",
      "Iteração:\n",
      "0.19172712699170957 0.5004735005636368 -0.19172712699170957\n",
      "Iteração:\n",
      "-0.10577003452196054 0.6062435350855974 0.10577003452196054\n",
      "Iteração:\n",
      "0.06084774911057034 0.545395785975027 -0.06084774911057034\n",
      "Iteração:\n",
      "-0.03421654952835185 0.5796123355033789 0.03421654952835185\n",
      "Iteração:\n",
      "0.019496874142289733 0.5601154613610891 -0.019496874142289733\n",
      "Iteração:\n",
      "-0.011027653719087871 0.571143115080177 0.011027653719087871\n",
      "Iteração:\n",
      "0.0062637676891275085 0.5648793473910495 -0.0062637676891275085\n",
      "Iteração:\n",
      "-0.0035493776380112196 0.5684287250290607 0.0035493776380112196\n",
      "Iteração:\n",
      "0.002013991882177435 0.5664147331468833 -0.002013991882177435\n",
      "Iteração:\n",
      "-0.001141904181400255 0.5675566373282835 0.001141904181400255\n",
      "Iteração:\n",
      "0.0006477254067882576 0.5669089119214953 -0.0006477254067882576\n",
      "Iteração:\n",
      "-0.00036732025407437696 0.5672762321755697 0.00036732025407437696\n",
      "Iteração:\n",
      "0.000208333784781356 0.5670678983907883 -0.000208333784781356\n",
      "Iteração:\n",
      "-0.00011815170856877 0.5671860500993571 0.00011815170856877\n",
      "Iteração:\n",
      "6.701004214215711e-05 0.5671190400572149 -6.701004214215711e-05\n",
      "Iteração:\n",
      "-3.800394408259855e-05 0.5671570440012975 3.800394408259855e-05\n",
      "Iteração:\n",
      "2.1553795019113586e-05 0.5671354902062784 -2.1553795019113586e-05\n"
     ]
    }
   ],
   "source": [
    "ponto_fixo(0,20)"
   ]
  },
  {
   "cell_type": "code",
   "execution_count": null,
   "metadata": {},
   "outputs": [],
   "source": []
  }
 ],
 "metadata": {
  "kernelspec": {
   "display_name": "Python 3",
   "language": "python",
   "name": "python3"
  },
  "language_info": {
   "codemirror_mode": {
    "name": "ipython",
    "version": 3
   },
   "file_extension": ".py",
   "mimetype": "text/x-python",
   "name": "python",
   "nbconvert_exporter": "python",
   "pygments_lexer": "ipython3",
   "version": "3.8.2"
  }
 },
 "nbformat": 4,
 "nbformat_minor": 4
}
