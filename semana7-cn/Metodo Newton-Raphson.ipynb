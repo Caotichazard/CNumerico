{
 "cells": [
  {
   "cell_type": "code",
   "execution_count": 1,
   "metadata": {},
   "outputs": [],
   "source": [
    "import numpy as np\n",
    "import math"
   ]
  },
  {
   "cell_type": "code",
   "execution_count": 2,
   "metadata": {},
   "outputs": [],
   "source": [
    "def func_main(x):#definir aqui a função principal\n",
    "    return x - np.cos(x)\n",
    "\n",
    "def func_phi(x):#definir aqui a derivada da função principal\n",
    "    return 1 + np.sin(x)\n",
    "\n",
    "def func_iter(x):\n",
    "    return x - (func_main(x)/func_phi(x))"
   ]
  },
  {
   "cell_type": "code",
   "execution_count": 6,
   "metadata": {},
   "outputs": [],
   "source": [
    "def newton_raphson(x0,ite):\n",
    "    chute = x0\n",
    "    for i in range(ite):\n",
    "        ret_main = func_main(chute)\n",
    "        print(\"Iteração\",i,\": \",\"f(x) = \",ret_main, \": \",\"f'(x) = \",func_phi(chute), \"||\",\"chute =\",chute, \"||\",\"next_chute =\",func_iter(chute))\n",
    "        chute = func_iter(chute)\n",
    "       "
   ]
  },
  {
   "cell_type": "code",
   "execution_count": 8,
   "metadata": {},
   "outputs": [
    {
     "name": "stdout",
     "output_type": "stream",
     "text": [
      "Iteração 0 :  f(x) =  -1.3775825618903728 :  f'(x) =  0.520574461395797 || chute = -0.5 || next_chute = 2.1462738072027423\n",
      "Iteração 1 :  f(x) =  2.6905092337602032 :  f'(x) =  1.8389325363101725 || chute = 2.1462738072027423 || next_chute = 0.6831917307070359\n",
      "Iteração 2 :  f(x) =  -0.09237009282863706 :  f'(x) =  1.631271619728007 || chute = 0.6831917307070359 || next_chute = 0.7398163244972709\n",
      "Iteração 3 :  f(x) =  0.0012239280539693143 :  f'(x) =  1.6741522616710123 || chute = 0.7398163244972709 || next_chute = 0.7390852511761694\n"
     ]
    }
   ],
   "source": [
    "newton_raphson(-0.5,4)"
   ]
  },
  {
   "cell_type": "code",
   "execution_count": null,
   "metadata": {},
   "outputs": [],
   "source": []
  }
 ],
 "metadata": {
  "kernelspec": {
   "display_name": "Python 3",
   "language": "python",
   "name": "python3"
  },
  "language_info": {
   "codemirror_mode": {
    "name": "ipython",
    "version": 3
   },
   "file_extension": ".py",
   "mimetype": "text/x-python",
   "name": "python",
   "nbconvert_exporter": "python",
   "pygments_lexer": "ipython3",
   "version": "3.8.5"
  }
 },
 "nbformat": 4,
 "nbformat_minor": 4
}
