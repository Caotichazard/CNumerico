{
 "cells": [
  {
   "cell_type": "code",
   "execution_count": 1,
   "metadata": {},
   "outputs": [],
   "source": [
    "import numpy as np\n",
    "import math"
   ]
  },
  {
   "cell_type": "code",
   "execution_count": 3,
   "metadata": {},
   "outputs": [],
   "source": [
    "def func_main(x):#definir aqui a função principal\n",
    "    return np.sin(7*x) - 0.1*x\n",
    "\n",
    "def func_iter(x0,x1):\n",
    "    return x1 - ((func_main(x1)*(x1-x0))/(func_main(x1)-func_main(x0)))"
   ]
  },
  {
   "cell_type": "code",
   "execution_count": 4,
   "metadata": {},
   "outputs": [],
   "source": [
    "def metodo_secante(x0,x1,ite):\n",
    "    print(\"Iteração\",0,\": \",\"f(x) = \",func_main(x0), \"||\",\"chute =\",x0)\n",
    "    print(\"Iteração\",1,\": \",\"f(x) = \",func_main(x1), \"||\",\"chute =\",x1)\n",
    "    \n",
    "    for i in range(2,ite):\n",
    "        chute = func_iter(x0,x1)\n",
    "        print(\"Iteração\",i,\": \",\"f(x) = \",func_main(chute), \"||\",\"chute =\",chute)\n",
    "        x0 = x1\n",
    "        x1 = chute"
   ]
  },
  {
   "cell_type": "code",
   "execution_count": 29,
   "metadata": {},
   "outputs": [
    {
     "name": "stdout",
     "output_type": "stream",
     "text": [
      "Iteração 0 :  f(x) =  -0.6071077089878838 || chute = -1.01\n",
      "Iteração 1 :  f(x) =  0.8781682338770005 || chute = 1.1\n",
      "Iteração 2 :  f(x) =  -0.8439583703234854 || chute = -0.14753584166079303\n",
      "Iteração 3 :  f(x) =  -0.15148395528920056 || chute = 0.4638409951409269\n",
      "Iteração 4 :  f(x) =  -0.9229195420365344 || chute = 0.5975842488990304\n",
      "Iteração 5 :  f(x) =  0.03470579969411439 || chute = 0.43757832665560537\n",
      "Iteração 6 :  f(x) =  -0.006394468629776509 || chute = 0.44337718477397614\n",
      "Iteração 7 :  f(x) =  5.797108920346794e-06 || chute = 0.44247498588723816\n",
      "Iteração 8 :  f(x) =  7.606226620771039e-10 || chute = 0.4424758030634974\n",
      "Iteração 9 :  f(x) =  -1.8041124150158794e-16 || chute = 0.4424758031707309\n",
      "Iteração 10 :  f(x) =  -1.8041124150158794e-16 || chute = 0.4424758031707309\n",
      "Iteração 11 :  f(x) =  nan || chute = nan\n",
      "Iteração 12 :  f(x) =  nan || chute = nan\n",
      "Iteração 13 :  f(x) =  nan || chute = nan\n",
      "Iteração 14 :  f(x) =  nan || chute = nan\n",
      "Iteração 15 :  f(x) =  nan || chute = nan\n",
      "Iteração 16 :  f(x) =  nan || chute = nan\n",
      "Iteração 17 :  f(x) =  nan || chute = nan\n",
      "Iteração 18 :  f(x) =  nan || chute = nan\n",
      "Iteração 19 :  f(x) =  nan || chute = nan\n",
      "Iteração 20 :  f(x) =  nan || chute = nan\n",
      "Iteração 21 :  f(x) =  nan || chute = nan\n",
      "Iteração 22 :  f(x) =  nan || chute = nan\n",
      "Iteração 23 :  f(x) =  nan || chute = nan\n",
      "Iteração 24 :  f(x) =  nan || chute = nan\n",
      "Iteração 25 :  f(x) =  nan || chute = nan\n",
      "Iteração 26 :  f(x) =  nan || chute = nan\n",
      "Iteração 27 :  f(x) =  nan || chute = nan\n",
      "Iteração 28 :  f(x) =  nan || chute = nan\n",
      "Iteração 29 :  f(x) =  nan || chute = nan\n",
      "Iteração 30 :  f(x) =  nan || chute = nan\n",
      "Iteração 31 :  f(x) =  nan || chute = nan\n",
      "Iteração 32 :  f(x) =  nan || chute = nan\n",
      "Iteração 33 :  f(x) =  nan || chute = nan\n",
      "Iteração 34 :  f(x) =  nan || chute = nan\n",
      "Iteração 35 :  f(x) =  nan || chute = nan\n",
      "Iteração 36 :  f(x) =  nan || chute = nan\n",
      "Iteração 37 :  f(x) =  nan || chute = nan\n",
      "Iteração 38 :  f(x) =  nan || chute = nan\n",
      "Iteração 39 :  f(x) =  nan || chute = nan\n",
      "Iteração 40 :  f(x) =  nan || chute = nan\n",
      "Iteração 41 :  f(x) =  nan || chute = nan\n",
      "Iteração 42 :  f(x) =  nan || chute = nan\n",
      "Iteração 43 :  f(x) =  nan || chute = nan\n",
      "Iteração 44 :  f(x) =  nan || chute = nan\n",
      "Iteração 45 :  f(x) =  nan || chute = nan\n",
      "Iteração 46 :  f(x) =  nan || chute = nan\n",
      "Iteração 47 :  f(x) =  nan || chute = nan\n",
      "Iteração 48 :  f(x) =  nan || chute = nan\n",
      "Iteração 49 :  f(x) =  nan || chute = nan\n",
      "Iteração 50 :  f(x) =  nan || chute = nan\n",
      "Iteração 51 :  f(x) =  nan || chute = nan\n",
      "Iteração 52 :  f(x) =  nan || chute = nan\n",
      "Iteração 53 :  f(x) =  nan || chute = nan\n",
      "Iteração 54 :  f(x) =  nan || chute = nan\n",
      "Iteração 55 :  f(x) =  nan || chute = nan\n",
      "Iteração 56 :  f(x) =  nan || chute = nan\n",
      "Iteração 57 :  f(x) =  nan || chute = nan\n",
      "Iteração 58 :  f(x) =  nan || chute = nan\n",
      "Iteração 59 :  f(x) =  nan || chute = nan\n",
      "Iteração 60 :  f(x) =  nan || chute = nan\n",
      "Iteração 61 :  f(x) =  nan || chute = nan\n",
      "Iteração 62 :  f(x) =  nan || chute = nan\n",
      "Iteração 63 :  f(x) =  nan || chute = nan\n",
      "Iteração 64 :  f(x) =  nan || chute = nan\n",
      "Iteração 65 :  f(x) =  nan || chute = nan\n",
      "Iteração 66 :  f(x) =  nan || chute = nan\n",
      "Iteração 67 :  f(x) =  nan || chute = nan\n",
      "Iteração 68 :  f(x) =  nan || chute = nan\n",
      "Iteração 69 :  f(x) =  nan || chute = nan\n",
      "Iteração 70 :  f(x) =  nan || chute = nan\n",
      "Iteração 71 :  f(x) =  nan || chute = nan\n",
      "Iteração 72 :  f(x) =  nan || chute = nan\n",
      "Iteração 73 :  f(x) =  nan || chute = nan\n",
      "Iteração 74 :  f(x) =  nan || chute = nan\n",
      "Iteração 75 :  f(x) =  nan || chute = nan\n",
      "Iteração 76 :  f(x) =  nan || chute = nan\n",
      "Iteração 77 :  f(x) =  nan || chute = nan\n",
      "Iteração 78 :  f(x) =  nan || chute = nan\n",
      "Iteração 79 :  f(x) =  nan || chute = nan\n",
      "Iteração 80 :  f(x) =  nan || chute = nan\n",
      "Iteração 81 :  f(x) =  nan || chute = nan\n",
      "Iteração 82 :  f(x) =  nan || chute = nan\n",
      "Iteração 83 :  f(x) =  nan || chute = nan\n",
      "Iteração 84 :  f(x) =  nan || chute = nan\n",
      "Iteração 85 :  f(x) =  nan || chute = nan\n",
      "Iteração 86 :  f(x) =  nan || chute = nan\n",
      "Iteração 87 :  f(x) =  nan || chute = nan\n",
      "Iteração 88 :  f(x) =  nan || chute = nan\n",
      "Iteração 89 :  f(x) =  nan || chute = nan\n",
      "Iteração 90 :  f(x) =  nan || chute = nan\n",
      "Iteração 91 :  f(x) =  nan || chute = nan\n",
      "Iteração 92 :  f(x) =  nan || chute = nan\n",
      "Iteração 93 :  f(x) =  nan || chute = nan\n",
      "Iteração 94 :  f(x) =  nan || chute = nan\n",
      "Iteração 95 :  f(x) =  nan || chute = nan\n",
      "Iteração 96 :  f(x) =  nan || chute = nan\n",
      "Iteração 97 :  f(x) =  nan || chute = nan\n",
      "Iteração 98 :  f(x) =  nan || chute = nan\n",
      "Iteração 99 :  f(x) =  nan || chute = nan\n"
     ]
    },
    {
     "name": "stderr",
     "output_type": "stream",
     "text": [
      "<ipython-input-3-ec51a72178ff>:5: RuntimeWarning: invalid value encountered in double_scalars\n",
      "  return x1 - ((func_main(x1)*(x1-x0))/(func_main(x1)-func_main(x0)))\n"
     ]
    }
   ],
   "source": [
    "metodo_secante(-1.01,1.1,100)"
   ]
  },
  {
   "cell_type": "code",
   "execution_count": null,
   "metadata": {},
   "outputs": [],
   "source": []
  }
 ],
 "metadata": {
  "kernelspec": {
   "display_name": "Python 3",
   "language": "python",
   "name": "python3"
  },
  "language_info": {
   "codemirror_mode": {
    "name": "ipython",
    "version": 3
   },
   "file_extension": ".py",
   "mimetype": "text/x-python",
   "name": "python",
   "nbconvert_exporter": "python",
   "pygments_lexer": "ipython3",
   "version": "3.8.5"
  }
 },
 "nbformat": 4,
 "nbformat_minor": 4
}
