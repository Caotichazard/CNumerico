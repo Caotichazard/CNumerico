{
 "cells": [
  {
   "cell_type": "code",
   "execution_count": 1,
   "metadata": {},
   "outputs": [],
   "source": [
    "import numpy as np\n",
    "import math"
   ]
  },
  {
   "cell_type": "code",
   "execution_count": 2,
   "metadata": {},
   "outputs": [],
   "source": [
    "def bisseccao(min_i,max_i):\n",
    "    \n",
    "    med_i = (max_i +min_i)/2\n",
    "    var_med = {'x':med_i}\n",
    "    #definir abaixo a função\n",
    "    temp = np.sqrt(med_i) - np.cos(med_i)\n",
    "    print(temp)\n",
    "    "
   ]
  },
  {
   "cell_type": "code",
   "execution_count": 3,
   "metadata": {},
   "outputs": [
    {
     "name": "stdout",
     "output_type": "stream",
     "text": [
      "-0.17047578070382519\n"
     ]
    }
   ],
   "source": [
    "bisseccao(0,1)"
   ]
  },
  {
   "cell_type": "code",
   "execution_count": 5,
   "metadata": {},
   "outputs": [],
   "source": [
    "def func_main(x):\n",
    "    return x - math.e**(-x)"
   ]
  },
  {
   "cell_type": "code",
   "execution_count": 6,
   "metadata": {},
   "outputs": [],
   "source": [
    "def bissec_recursive(min_i,max_i,count):\n",
    "    med_i = (max_i +min_i)/2\n",
    "    var_med = {'x':med_i}\n",
    "    #definir abaixo a função\n",
    "    med_f = func_main(med_i)\n",
    "    max_f = func_main(max_i)\n",
    "    min_f = func_main(min_i)\n",
    "    print(med_f)\n",
    "    \n",
    "    if(count == 0):\n",
    "        return\n",
    "    elif(med_f*min_f < 0):\n",
    "        bissec_recursive(min_i,med_i,count-1)\n",
    "    elif(med_f*max_f < 0):\n",
    "        bissec_recursive(med_i,max_i,count-1)\n",
    "    elif(med_f == 0):\n",
    "        return\n"
   ]
  },
  {
   "cell_type": "code",
   "execution_count": 7,
   "metadata": {},
   "outputs": [
    {
     "name": "stdout",
     "output_type": "stream",
     "text": [
      "-0.10653065971263342\n",
      "0.27763344725898526\n",
      "0.08973857148100972\n",
      "-0.00728282473092301\n",
      "0.04149754983697962\n"
     ]
    }
   ],
   "source": [
    "bissec_recursive(0,1,4)"
   ]
  },
  {
   "cell_type": "code",
   "execution_count": 11,
   "metadata": {},
   "outputs": [],
   "source": [
    "def erro_max(i_min,i_max,it):\n",
    "    temp1 = i_max - i_min\n",
    "    temp2 = temp1/(2**it)\n",
    "    print(temp2)"
   ]
  },
  {
   "cell_type": "code",
   "execution_count": 13,
   "metadata": {},
   "outputs": [
    {
     "name": "stdout",
     "output_type": "stream",
     "text": [
      "0.01953125\n"
     ]
    }
   ],
   "source": [
    "erro_max(2,7,8)"
   ]
  },
  {
   "cell_type": "code",
   "execution_count": null,
   "metadata": {},
   "outputs": [],
   "source": []
  }
 ],
 "metadata": {
  "kernelspec": {
   "display_name": "Python 3",
   "language": "python",
   "name": "python3"
  },
  "language_info": {
   "codemirror_mode": {
    "name": "ipython",
    "version": 3
   },
   "file_extension": ".py",
   "mimetype": "text/x-python",
   "name": "python",
   "nbconvert_exporter": "python",
   "pygments_lexer": "ipython3",
   "version": "3.8.2"
  }
 },
 "nbformat": 4,
 "nbformat_minor": 4
}
