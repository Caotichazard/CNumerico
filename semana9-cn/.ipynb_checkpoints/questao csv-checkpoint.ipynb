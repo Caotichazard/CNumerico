{
 "cells": [
  {
   "cell_type": "code",
   "execution_count": 42,
   "metadata": {},
   "outputs": [],
   "source": [
    "import numpy as np\n",
    "import csv"
   ]
  },
  {
   "cell_type": "code",
   "execution_count": 55,
   "metadata": {},
   "outputs": [],
   "source": [
    "## se na questão tiver uma formula do tipo ϕ(x)=a1cos(x)+a2sin(x) g1 = cos(x) e g2 = sin(x)\n",
    "\n",
    "def g1(x):\n",
    "    return np.cos(x)\n",
    "\n",
    "def g2(x):\n",
    "    return np.sin(x)\n",
    "\n",
    "def phi(x,a1,a2):\n",
    "    return a1*g1(x) + a2*g2(x)\n",
    "\n",
    "def erro(x,a1,a2,y):\n",
    "    return phi(x,a1,a2) - y "
   ]
  },
  {
   "cell_type": "code",
   "execution_count": 56,
   "metadata": {},
   "outputs": [],
   "source": [
    "def somg1pow2(list_x):\n",
    "    soma = 0\n",
    "    for x in list_x:\n",
    "        soma = soma + g1(x)**2\n",
    "    return soma\n",
    "def somg1g2(list_x):\n",
    "    soma = 0\n",
    "    for x in list_x:\n",
    "        soma = soma + g1(x)*g2(x)\n",
    "    return soma\n",
    "def somg1yi(list_x,list_y):\n",
    "    soma = 0\n",
    "    for i in range(len(list_x)):\n",
    "        soma  = soma + g1(list_x[i])*list_y[i]\n",
    "    return soma\n",
    "def somg2pow2(list_x):\n",
    "    soma = 0\n",
    "    for x in list_x:\n",
    "        soma = soma + g2(x)**2\n",
    "    return soma\n",
    "def somg2yi(list_x,list_y):\n",
    "    soma = 0\n",
    "    for i in range(len(list_x)):\n",
    "        soma  = soma + g2(list_x[i])*list_y[i]\n",
    "    return soma"
   ]
  },
  {
   "cell_type": "code",
   "execution_count": 57,
   "metadata": {},
   "outputs": [],
   "source": [
    "arr_x = []\n",
    "arr_y = []\n",
    "with open(\"questao2-tabela.csv\", newline='') as csvfile:\n",
    "    reader = csv.reader(csvfile)\n",
    "    for row in reader:\n",
    "        arr_x.append(float(row[0].replace(',','.')))\n",
    "        arr_y.append(float(row[1].replace(',','.')))"
   ]
  },
  {
   "cell_type": "code",
   "execution_count": 58,
   "metadata": {},
   "outputs": [
    {
     "name": "stdout",
     "output_type": "stream",
     "text": [
      "[0.05735066 2.01795417]\n"
     ]
    }
   ],
   "source": [
    "## x * a1 + y * a2 = z\n",
    "## w * a1 + v * a2 = k\n",
    "\n",
    "\n",
    "x = somg1pow2(arr_x)\n",
    "y = somg1g2(arr_x)\n",
    "z = somg1yi(arr_x,arr_y)\n",
    "w = y\n",
    "v = somg2pow2(arr_x)\n",
    "k = somg2yi(arr_x,arr_y)\n",
    "\n",
    "\n",
    "a = np.array([[x,y], [w,v]])\n",
    "b = np.array([z,k])\n",
    "r = np.linalg.solve(a, b)\n",
    "## r = [a1, a2]\n",
    "print(r)"
   ]
  },
  {
   "cell_type": "code",
   "execution_count": 59,
   "metadata": {},
   "outputs": [
    {
     "name": "stdout",
     "output_type": "stream",
     "text": [
      "3.7743013294798757\n"
     ]
    }
   ],
   "source": [
    "soma = 0\n",
    "for i in range(len(arr_x)):\n",
    "    soma = soma + erro(arr_x[i],r[0],r[1],arr_y[i])**2\n",
    "print(soma) #resíduo resultante do problema de Quadrados Mínimos"
   ]
  }
 ],
 "metadata": {
  "kernelspec": {
   "display_name": "Python 3",
   "language": "python",
   "name": "python3"
  },
  "language_info": {
   "codemirror_mode": {
    "name": "ipython",
    "version": 3
   },
   "file_extension": ".py",
   "mimetype": "text/x-python",
   "name": "python",
   "nbconvert_exporter": "python",
   "pygments_lexer": "ipython3",
   "version": "3.8.5"
  }
 },
 "nbformat": 4,
 "nbformat_minor": 4
}
