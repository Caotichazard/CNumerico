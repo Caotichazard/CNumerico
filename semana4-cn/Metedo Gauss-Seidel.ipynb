{
 "cells": [
  {
   "cell_type": "code",
   "execution_count": 1,
   "metadata": {},
   "outputs": [
    {
     "name": "stdout",
     "output_type": "stream",
     "text": [
      "[0.0, 0.0]\n",
      "[0.25, 0.35]\n",
      "[0.3375, 0.4025]\n",
      "[0.350625, 0.410375]\n"
     ]
    }
   ],
   "source": [
    "# Defining our function as seidel which takes 3 arguments \n",
    "# as A matrix, Solution and B matrix \n",
    "   \n",
    "def seidel(a, x ,b): \n",
    "    #Finding length of a(3)        \n",
    "    n = len(a)                    \n",
    "    # for loop for 3 times as to calculate x, y , z \n",
    "    for j in range(0, n):         \n",
    "        # temp variable d to store b[j] \n",
    "        d = b[j]                   \n",
    "          \n",
    "        # to calculate respective xi, yi, zi \n",
    "        for i in range(0, n):      \n",
    "            if(j != i): \n",
    "                d-=a[j][i] * x[i] \n",
    "        # updating the value of our solution         \n",
    "        x[j] = d / a[j][j] \n",
    "    # returning our updated solution            \n",
    "    return x     \n",
    "   \n",
    "# int(input())input as number of variable to be solved                 \n",
    "n = 3                              \n",
    "a = []                             \n",
    "b = []         \n",
    "# initial solution depending on n(here n=3)                      \n",
    "x = [0.0,0.0]                         \n",
    "a = [[4.0,-1.0],[-3.0,5.0]] \n",
    "b = [1.0,1.0] \n",
    "print(x) \n",
    "  \n",
    "#loop run for m times depending on m the error value \n",
    "for i in range(0, 3):             \n",
    "    x = seidel(a, x, b) \n",
    "    #print each time the updated solution \n",
    "    print(x) "
   ]
  },
  {
   "cell_type": "code",
   "execution_count": null,
   "metadata": {},
   "outputs": [],
   "source": []
  }
 ],
 "metadata": {
  "kernelspec": {
   "display_name": "Python 3",
   "language": "python",
   "name": "python3"
  },
  "language_info": {
   "codemirror_mode": {
    "name": "ipython",
    "version": 3
   },
   "file_extension": ".py",
   "mimetype": "text/x-python",
   "name": "python",
   "nbconvert_exporter": "python",
   "pygments_lexer": "ipython3",
   "version": "3.8.2"
  }
 },
 "nbformat": 4,
 "nbformat_minor": 4
}
