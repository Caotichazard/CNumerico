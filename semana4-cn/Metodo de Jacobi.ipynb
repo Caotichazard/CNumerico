{
 "cells": [
  {
   "cell_type": "code",
   "execution_count": 4,
   "metadata": {},
   "outputs": [
    {
     "name": "stdout",
     "output_type": "stream",
     "text": [
      "A:\n",
      "array([[1.    , 0.3824],\n",
      "       [0.7128, 2.    ]])\n",
      "b:\n",
      "array([2.    , 4.4835])\n",
      "x:\n",
      "array([2.     , 2.24175])\n",
      "array([1.1427548, 1.52895  ])\n",
      "array([-0.8572452, -0.7128   ])\n",
      "1.1148780977860495\n"
     ]
    }
   ],
   "source": [
    "from pprint import pprint\n",
    "from numpy import array, zeros, diag, diagflat, dot, linalg\n",
    "\n",
    "\n",
    "def jacobi(A,b,N=25,x=None):\n",
    "    \"\"\"Solves the equation Ax=b via the Jacobi iterative method.\"\"\"\n",
    "    # Create an initial guess if needed                                                                                                                                                            \n",
    "    if x is None:\n",
    "        x = zeros(len(A[0]))\n",
    "\n",
    "    # Create a vector of the diagonal elements of A                                                                                                                                                \n",
    "    # and subtract them from A                                                                                                                                                                     \n",
    "    D = diag(A)\n",
    "    R = A - diagflat(D)\n",
    "\n",
    "    # Iterate for N times                                                                                                                                                                          \n",
    "    for i in range(N):\n",
    "        x = (b - dot(R,x)) / D\n",
    "    return x\n",
    "\n",
    "A = array([[1.0,0.3824],[0.7128,2.0]])\n",
    "b = array([2.0,4.4835])\n",
    "guess = array([0.0,0.0])\n",
    "\n",
    "sol = jacobi(A,b,N=1,x=guess)\n",
    "sol2= jacobi(A,b,N=2,x=guess)\n",
    "sol3 = sol2-sol\n",
    "print (\"A:\")\n",
    "pprint(A)\n",
    "\n",
    "print (\"b:\")\n",
    "pprint(b)\n",
    "\n",
    "print (\"x:\")\n",
    "pprint(sol)\n",
    "pprint(sol2)\n",
    "pprint(sol3)\n",
    "\n",
    "norma = linalg.norm(sol3)\n",
    "pprint(norma)"
   ]
  },
  {
   "cell_type": "code",
   "execution_count": null,
   "metadata": {},
   "outputs": [],
   "source": [
    "from pprint import pprint\n",
    "from numpy import array, zeros, diag, diagflat, dot\n",
    "\n",
    "def jacobi(A,b,N=25,x=None):\n",
    "    \"\"\"Solves the equation Ax=b via the Jacobi iterative method.\"\"\"\n",
    "    # Create an initial guess if needed                                                                                                                                                            \n",
    "    if x is None:\n",
    "        x = zeros(len(A[0]))\n",
    "\n",
    "    # Create a vector of the diagonal elements of A                                                                                                                                                \n",
    "    # and subtract them from A                                                                                                                                                                     \n",
    "    D = diag(A)\n",
    "    R = A - diagflat(D)\n",
    "\n",
    "    # Iterate for N times                                                                                                                                                                          \n",
    "    for i in range(N):\n",
    "        x = (b - dot(R,x)) / D\n",
    "    return x\n",
    "\n",
    "A = array([[4,4],[]])\n",
    "b = array([2.2,-1.3,4.5])\n",
    "guess = array([1.0,2.0,3.0])\n",
    "\n",
    "sol = jacobi(A,b,N=5,x=guess)\n",
    "\n",
    "print (\"A:\")\n",
    "pprint(A)\n",
    "\n",
    "print (\"b:\")\n",
    "pprint(b)\n",
    "\n",
    "print (\"x:\")\n",
    "pprint(sol)"
   ]
  }
 ],
 "metadata": {
  "kernelspec": {
   "display_name": "Python 3",
   "language": "python",
   "name": "python3"
  },
  "language_info": {
   "codemirror_mode": {
    "name": "ipython",
    "version": 3
   },
   "file_extension": ".py",
   "mimetype": "text/x-python",
   "name": "python",
   "nbconvert_exporter": "python",
   "pygments_lexer": "ipython3",
   "version": "3.8.2"
  }
 },
 "nbformat": 4,
 "nbformat_minor": 4
}
