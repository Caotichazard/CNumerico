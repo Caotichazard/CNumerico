{
 "cells": [
  {
   "cell_type": "code",
   "execution_count": 3,
   "metadata": {},
   "outputs": [],
   "source": [
    "import numpy as np"
   ]
  },
  {
   "cell_type": "code",
   "execution_count": 6,
   "metadata": {},
   "outputs": [],
   "source": [
    "## definir quantas funções você quer pro polinomio\n",
    "\n",
    "\n",
    "def g0(x):\n",
    "    if x <= np.pi:\n",
    "        return 1\n",
    "    else: \n",
    "        return 0\n",
    "\n",
    "\n",
    "def g1(x):\n",
    "    return 1 - g0(x)\n",
    "\n",
    "\n",
    "dicionarioFuncoes = { 0:g0, 1:g1}"
   ]
  },
  {
   "cell_type": "code",
   "execution_count": 13,
   "metadata": {},
   "outputs": [
    {
     "name": "stdout",
     "output_type": "stream",
     "text": [
      "[0.  0.5 1.  1.5 2.  2.5 3.  3.5 4.  4.5 5.  5.5 6. ]\n",
      "[0.0, 3.9312894165544643, 6.900062075424751, 8.179458890153246, 7.4562388999705895, 4.907471581652444, 1.157184066090911, -2.8764224670548826, -6.205780461525011, -8.015746964853795, -7.863179052237735, -5.785430669677213, -2.291207085231192]\n"
     ]
    }
   ],
   "source": [
    "## transcrever aqui as tabelas de valores de x e y dados no exercicio\n",
    "\n",
    "arr_x = np.arange(0,np.pi*2+0.0001,0.5)\n",
    "\n",
    "def filly(arr_x):\n",
    "    arr_y = []\n",
    "    for x in arr_x:\n",
    "        arr_y.append(8.2*np.sin(x))\n",
    "    return arr_y\n",
    "\n",
    "arr_y = filly(arr_x)\n",
    "print(arr_x)\n",
    "print(arr_y)"
   ]
  },
  {
   "cell_type": "code",
   "execution_count": 14,
   "metadata": {},
   "outputs": [
    {
     "ename": "KeyError",
     "evalue": "2",
     "output_type": "error",
     "traceback": [
      "\u001b[0;31m---------------------------------------------------------------------------\u001b[0m",
      "\u001b[0;31mKeyError\u001b[0m                                  Traceback (most recent call last)",
      "\u001b[0;32m<ipython-input-14-0932680ea097>\u001b[0m in \u001b[0;36m<module>\u001b[0;34m\u001b[0m\n\u001b[1;32m     11\u001b[0m \u001b[0;34m\u001b[0m\u001b[0m\n\u001b[1;32m     12\u001b[0m \u001b[0;34m\u001b[0m\u001b[0m\n\u001b[0;32m---> 13\u001b[0;31m \u001b[0mmatrizG\u001b[0m \u001b[0;34m=\u001b[0m \u001b[0mfillmg\u001b[0m\u001b[0;34m(\u001b[0m\u001b[0mdicionarioFuncoes\u001b[0m\u001b[0;34m,\u001b[0m\u001b[0marr_x\u001b[0m\u001b[0;34m)\u001b[0m\u001b[0;34m\u001b[0m\u001b[0;34m\u001b[0m\u001b[0m\n\u001b[0m",
      "\u001b[0;32m<ipython-input-14-0932680ea097>\u001b[0m in \u001b[0;36mfillmg\u001b[0;34m(dicionarioFuncoes, arr_x)\u001b[0m\n\u001b[1;32m      2\u001b[0m     \u001b[0mmatrizGtrans\u001b[0m \u001b[0;34m=\u001b[0m \u001b[0;34m[\u001b[0m\u001b[0;34m]\u001b[0m\u001b[0;34m\u001b[0m\u001b[0;34m\u001b[0m\u001b[0m\n\u001b[1;32m      3\u001b[0m     \u001b[0;32mfor\u001b[0m \u001b[0mi\u001b[0m \u001b[0;32min\u001b[0m \u001b[0mrange\u001b[0m\u001b[0;34m(\u001b[0m\u001b[0;36m4\u001b[0m\u001b[0;34m)\u001b[0m\u001b[0;34m:\u001b[0m\u001b[0;34m\u001b[0m\u001b[0;34m\u001b[0m\u001b[0m\n\u001b[0;32m----> 4\u001b[0;31m         \u001b[0mf\u001b[0m \u001b[0;34m=\u001b[0m \u001b[0mdicionarioFuncoes\u001b[0m\u001b[0;34m[\u001b[0m\u001b[0mi\u001b[0m\u001b[0;34m]\u001b[0m\u001b[0;34m\u001b[0m\u001b[0;34m\u001b[0m\u001b[0m\n\u001b[0m\u001b[1;32m      5\u001b[0m         \u001b[0mtmpArr\u001b[0m \u001b[0;34m=\u001b[0m \u001b[0;34m[\u001b[0m\u001b[0;34m]\u001b[0m\u001b[0;34m\u001b[0m\u001b[0;34m\u001b[0m\u001b[0m\n\u001b[1;32m      6\u001b[0m         \u001b[0;32mfor\u001b[0m \u001b[0mx\u001b[0m \u001b[0;32min\u001b[0m \u001b[0marr_x\u001b[0m\u001b[0;34m:\u001b[0m\u001b[0;34m\u001b[0m\u001b[0;34m\u001b[0m\u001b[0m\n",
      "\u001b[0;31mKeyError\u001b[0m: 2"
     ]
    }
   ],
   "source": [
    "\n",
    "\n",
    "def fillmg(dicionarioFuncoes, arr_x):\n",
    "    matrizGtrans = []\n",
    "    for i in range(4):\n",
    "        f = dicionarioFuncoes[i]\n",
    "        tmpArr = []\n",
    "        for x in arr_x:\n",
    "            tmpArr.append(f(x))\n",
    "        matrizGtrans.append(tmpArr)\n",
    "    matrizGtransnp = np.array(matrizGtrans)\n",
    "    return matrizGtransnp\n",
    "\n",
    "\n",
    "matrizG = fillmg(dicionarioFuncoes,arr_x)"
   ]
  },
  {
   "cell_type": "code",
   "execution_count": 22,
   "metadata": {},
   "outputs": [
    {
     "name": "stdout",
     "output_type": "stream",
     "text": [
      "[[ 1.         -1.5708      2.46741264 -3.87581177]\n",
      " [ 1.         -1.1781      1.38791961 -1.63510809]\n",
      " [ 1.         -0.7854      0.61685316 -0.48447647]\n",
      " [ 1.         -0.3927      0.15421329 -0.06055956]\n",
      " [ 1.          0.          0.          0.        ]\n",
      " [ 1.          0.3927      0.15421329  0.06055956]\n",
      " [ 1.          0.7854      0.61685316  0.48447647]\n",
      " [ 1.          1.1781      1.38791961  1.63510809]\n",
      " [ 1.          1.5708      2.46741264  3.87581177]]\n"
     ]
    }
   ],
   "source": [
    "print(matrizG.transpose())"
   ]
  },
  {
   "cell_type": "code",
   "execution_count": 23,
   "metadata": {},
   "outputs": [
    {
     "name": "stderr",
     "output_type": "stream",
     "text": [
      "<ipython-input-23-ce17fc54e010>:1: FutureWarning: `rcond` parameter will change to the default of machine precision times ``max(M, N)`` where M and N are the input matrix dimensions.\n",
      "To use the future default and silence this warning we advise to pass `rcond=None`, to keep using the old, explicitly pass `rcond=-1`.\n",
      "  x, residuals, rank, s= np.linalg.lstsq(matrizG.transpose(),arr_y)\n"
     ]
    }
   ],
   "source": [
    "x, residuals, rank, s= np.linalg.lstsq(matrizG.transpose(),arr_y)"
   ]
  },
  {
   "cell_type": "code",
   "execution_count": 25,
   "metadata": {},
   "outputs": [
    {
     "name": "stdout",
     "output_type": "stream",
     "text": [
      "[ 0.00000000e+00  9.85512111e-01 -2.22044605e-16 -1.41883864e-01]\n",
      "[0.00010306]\n"
     ]
    }
   ],
   "source": [
    "print(x)\n",
    "print(residuals)"
   ]
  }
 ],
 "metadata": {
  "kernelspec": {
   "display_name": "Python 3",
   "language": "python",
   "name": "python3"
  },
  "language_info": {
   "codemirror_mode": {
    "name": "ipython",
    "version": 3
   },
   "file_extension": ".py",
   "mimetype": "text/x-python",
   "name": "python",
   "nbconvert_exporter": "python",
   "pygments_lexer": "ipython3",
   "version": "3.8.5"
  }
 },
 "nbformat": 4,
 "nbformat_minor": 4
}
