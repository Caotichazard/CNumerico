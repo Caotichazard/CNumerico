{
 "cells": [
  {
   "cell_type": "code",
   "execution_count": 1,
   "metadata": {},
   "outputs": [],
   "source": [
    "import numpy as np"
   ]
  },
  {
   "cell_type": "code",
   "execution_count": 3,
   "metadata": {},
   "outputs": [],
   "source": [
    "## definir quantas funções você quer pro polinomio\n",
    "\n",
    "\n",
    "def g0(x):\n",
    "    return 1\n",
    "\n",
    "def g1(x):\n",
    "    return x\n",
    "\n",
    "def g2(x):\n",
    "    return x**2\n",
    "\n",
    "def g3(x):\n",
    "    return x**3\n",
    "\n",
    "dicionarioFuncoes = { 0:g0, 1:g1, 2:g2, 3:g3}"
   ]
  },
  {
   "cell_type": "code",
   "execution_count": 5,
   "metadata": {},
   "outputs": [],
   "source": [
    "## transcrever aqui as tabelas de valores de x e y dados no exercicio\n",
    "\n",
    "arr_x = [-1.5708,-1.1781,-0.7854,-0.3927,0,0.3927,0.7854,1.1781,1.5708]\n",
    "\n",
    "arr_y = [-1,-0.9239,-0.7071,-0.3827,0,0.3827,0.7071,0.9239,1]"
   ]
  },
  {
   "cell_type": "code",
   "execution_count": 10,
   "metadata": {},
   "outputs": [],
   "source": [
    "\n",
    "\n",
    "def fillmg(dicionarioFuncoes, arr_x):\n",
    "    matrizGtrans = []\n",
    "    for i in range(4):\n",
    "        f = dicionarioFuncoes[i]\n",
    "        tmpArr = []\n",
    "        for x in arr_x:\n",
    "            tmpArr.append(f(x))\n",
    "        matrizGtrans.append(tmpArr)\n",
    "    matrizGtransnp = np.array(matrizGtrans)\n",
    "    return matrizGtransnp\n",
    "\n",
    "\n",
    "matrizG = fillmg(dicionarioFuncoes,arr_x)"
   ]
  },
  {
   "cell_type": "code",
   "execution_count": 22,
   "metadata": {},
   "outputs": [
    {
     "name": "stdout",
     "output_type": "stream",
     "text": [
      "[[ 1.         -1.5708      2.46741264 -3.87581177]\n",
      " [ 1.         -1.1781      1.38791961 -1.63510809]\n",
      " [ 1.         -0.7854      0.61685316 -0.48447647]\n",
      " [ 1.         -0.3927      0.15421329 -0.06055956]\n",
      " [ 1.          0.          0.          0.        ]\n",
      " [ 1.          0.3927      0.15421329  0.06055956]\n",
      " [ 1.          0.7854      0.61685316  0.48447647]\n",
      " [ 1.          1.1781      1.38791961  1.63510809]\n",
      " [ 1.          1.5708      2.46741264  3.87581177]]\n"
     ]
    }
   ],
   "source": [
    "print(matrizG.transpose())"
   ]
  },
  {
   "cell_type": "code",
   "execution_count": 23,
   "metadata": {},
   "outputs": [
    {
     "name": "stderr",
     "output_type": "stream",
     "text": [
      "<ipython-input-23-ce17fc54e010>:1: FutureWarning: `rcond` parameter will change to the default of machine precision times ``max(M, N)`` where M and N are the input matrix dimensions.\n",
      "To use the future default and silence this warning we advise to pass `rcond=None`, to keep using the old, explicitly pass `rcond=-1`.\n",
      "  x, residuals, rank, s= np.linalg.lstsq(matrizG.transpose(),arr_y)\n"
     ]
    }
   ],
   "source": [
    "x, residuals, rank, s= np.linalg.lstsq(matrizG.transpose(),arr_y)"
   ]
  },
  {
   "cell_type": "code",
   "execution_count": 25,
   "metadata": {},
   "outputs": [
    {
     "name": "stdout",
     "output_type": "stream",
     "text": [
      "[ 0.00000000e+00  9.85512111e-01 -2.22044605e-16 -1.41883864e-01]\n",
      "[0.00010306]\n"
     ]
    }
   ],
   "source": [
    "print(x)\n",
    "print(residuals)"
   ]
  }
 ],
 "metadata": {
  "kernelspec": {
   "display_name": "Python 3",
   "language": "python",
   "name": "python3"
  },
  "language_info": {
   "codemirror_mode": {
    "name": "ipython",
    "version": 3
   },
   "file_extension": ".py",
   "mimetype": "text/x-python",
   "name": "python",
   "nbconvert_exporter": "python",
   "pygments_lexer": "ipython3",
   "version": "3.8.5"
  }
 },
 "nbformat": 4,
 "nbformat_minor": 4
}
