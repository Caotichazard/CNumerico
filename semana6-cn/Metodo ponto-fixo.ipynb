{
 "cells": [
  {
   "cell_type": "code",
   "execution_count": 1,
   "metadata": {},
   "outputs": [],
   "source": [
    "import numpy as np\n",
    "import math"
   ]
  },
  {
   "cell_type": "code",
   "execution_count": 2,
   "metadata": {},
   "outputs": [],
   "source": [
    "def func_main(x):\n",
    "    return np.sin(x)\n",
    "    \n",
    "def func_phi(x):    \n",
    "    return np.pi + (func_main(x)/2)"
   ]
  },
  {
   "cell_type": "code",
   "execution_count": 9,
   "metadata": {},
   "outputs": [],
   "source": [
    "def ponto_fixo(chute,count):\n",
    "    ret_main = 0\n",
    "    ret_phi = 0 \n",
    "    #chute = (min_i+max_i)/2\n",
    "    while count > 0:\n",
    "        ret_phi = func_phi(chute)\n",
    "        ret_main = func_main(chute)\n",
    "        \n",
    "        \n",
    "        print(\"Iteração:\")\n",
    "        print(ret_main, ret_phi ,(np.pi-ret_phi)/np.pi)\n",
    "        \n",
    "        chute = ret_phi\n",
    "        count -= 1\n",
    "    "
   ]
  },
  {
   "cell_type": "code",
   "execution_count": 10,
   "metadata": {},
   "outputs": [
    {
     "name": "stdout",
     "output_type": "stream",
     "text": [
      "Iteração:\n",
      "-0.03839790450523538 3.1223937013371756 0.0061112163063787\n",
      "Iteração:\n",
      "0.019197772819465005 3.151191539999526 -0.0030554204405731575\n",
      "Iteração:\n",
      "-0.009598739005719968 3.136793284086933 0.0015276867602093496\n",
      "Iteração:\n",
      "0.0047993510781438 3.143992329128865 -0.0007638404477199816\n",
      "Iteração:\n",
      "-0.0023996732360066944 3.1403928169717896 0.00038191985731583566\n",
      "Iteração:\n",
      "0.0011998363301212536 3.142192571754854 -0.00019095988284004864\n"
     ]
    }
   ],
   "source": [
    "ponto_fixo(3.18,6)"
   ]
  },
  {
   "cell_type": "code",
   "execution_count": null,
   "metadata": {},
   "outputs": [],
   "source": []
  }
 ],
 "metadata": {
  "kernelspec": {
   "display_name": "Python 3",
   "language": "python",
   "name": "python3"
  },
  "language_info": {
   "codemirror_mode": {
    "name": "ipython",
    "version": 3
   },
   "file_extension": ".py",
   "mimetype": "text/x-python",
   "name": "python",
   "nbconvert_exporter": "python",
   "pygments_lexer": "ipython3",
   "version": "3.8.5"
  }
 },
 "nbformat": 4,
 "nbformat_minor": 4
}
