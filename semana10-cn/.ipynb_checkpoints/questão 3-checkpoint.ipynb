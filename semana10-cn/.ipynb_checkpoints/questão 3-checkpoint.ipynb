{
 "cells": [
  {
   "cell_type": "code",
   "execution_count": 1,
   "metadata": {},
   "outputs": [],
   "source": [
    "##CORRETA\n",
    "\n",
    "import numpy as np"
   ]
  },
  {
   "cell_type": "code",
   "execution_count": 2,
   "metadata": {},
   "outputs": [],
   "source": [
    "## definir quantas funções você quer pro polinomio\n",
    "\n",
    "\n",
    "def g0(x):\n",
    "    return 1\n",
    "\n",
    "\n",
    "def g1(x):\n",
    "    return np.sin(np.pi*x)\n",
    "\n",
    "def g2(x):\n",
    "    return x*np.cos(np.pi*x)\n",
    "\n",
    "dicionarioFuncoes = { 0:g0, 1:g1, 2:g2}"
   ]
  },
  {
   "cell_type": "code",
   "execution_count": 26,
   "metadata": {},
   "outputs": [],
   "source": [
    "## transcrever aqui as tabelas de valores de x e y dados no exercicio\n",
    "\n",
    "arr_x = [-1,-0.5,0,0.5,1]\n",
    "\n",
    "arr_y = [1.4,6.1,5,6.1,1.4]"
   ]
  },
  {
   "cell_type": "code",
   "execution_count": 27,
   "metadata": {},
   "outputs": [],
   "source": [
    "\n",
    "\n",
    "def fillmg(dicionarioFuncoes, arr_x):\n",
    "    matrizGtrans = []\n",
    "    for i in range(3):\n",
    "        f = dicionarioFuncoes[i]\n",
    "        tmpArr = []\n",
    "        for x in arr_x:\n",
    "            tmpArr.append(f(x))\n",
    "        matrizGtrans.append(tmpArr)\n",
    "    matrizGtransnp = np.array(matrizGtrans)\n",
    "    return matrizGtransnp\n",
    "\n",
    "\n",
    "matrizG = fillmg(dicionarioFuncoes,arr_x)"
   ]
  },
  {
   "cell_type": "code",
   "execution_count": 28,
   "metadata": {},
   "outputs": [
    {
     "name": "stdout",
     "output_type": "stream",
     "text": [
      "[[ 1.    1.6   2.56]\n",
      " [ 1.    3.4  11.56]\n",
      " [ 1.    0.    0.  ]\n",
      " [ 1.   -3.4  11.56]\n",
      " [ 1.   -1.6   2.56]]\n"
     ]
    }
   ],
   "source": [
    "print(matrizG.transpose())"
   ]
  },
  {
   "cell_type": "code",
   "execution_count": 29,
   "metadata": {},
   "outputs": [
    {
     "name": "stderr",
     "output_type": "stream",
     "text": [
      "<ipython-input-29-ce17fc54e010>:1: FutureWarning: `rcond` parameter will change to the default of machine precision times ``max(M, N)`` where M and N are the input matrix dimensions.\n",
      "To use the future default and silence this warning we advise to pass `rcond=None`, to keep using the old, explicitly pass `rcond=-1`.\n",
      "  x, residuals, rank, s= np.linalg.lstsq(matrizG.transpose(),arr_y)\n"
     ]
    }
   ],
   "source": [
    "x, residuals, rank, s= np.linalg.lstsq(matrizG.transpose(),arr_y)"
   ]
  },
  {
   "cell_type": "code",
   "execution_count": 30,
   "metadata": {},
   "outputs": [
    {
     "name": "stdout",
     "output_type": "stream",
     "text": [
      "[2.35337566 0.         0.29154114]\n",
      "[13.06609032]\n"
     ]
    }
   ],
   "source": [
    "print(x)\n",
    "print(residuals)"
   ]
  },
  {
   "cell_type": "code",
   "execution_count": null,
   "metadata": {},
   "outputs": [],
   "source": []
  }
 ],
 "metadata": {
  "kernelspec": {
   "display_name": "Python 3",
   "language": "python",
   "name": "python3"
  },
  "language_info": {
   "codemirror_mode": {
    "name": "ipython",
    "version": 3
   },
   "file_extension": ".py",
   "mimetype": "text/x-python",
   "name": "python",
   "nbconvert_exporter": "python",
   "pygments_lexer": "ipython3",
   "version": "3.8.5"
  }
 },
 "nbformat": 4,
 "nbformat_minor": 4
}
