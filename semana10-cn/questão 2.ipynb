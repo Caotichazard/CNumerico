{
 "cells": [
  {
   "cell_type": "code",
   "execution_count": 3,
   "metadata": {},
   "outputs": [],
   "source": [
    "import numpy as np"
   ]
  },
  {
   "cell_type": "code",
   "execution_count": 6,
   "metadata": {},
   "outputs": [],
   "source": [
    "## definir quantas funções você quer pro polinomio\n",
    "\n",
    "\n",
    "def g0(x):\n",
    "    if x <= np.pi:\n",
    "        return 1\n",
    "    else: \n",
    "        return 0\n",
    "\n",
    "\n",
    "def g1(x):\n",
    "    return 1 - g0(x)\n",
    "\n",
    "\n",
    "dicionarioFuncoes = { 0:g0, 1:g1}"
   ]
  },
  {
   "cell_type": "code",
   "execution_count": 13,
   "metadata": {},
   "outputs": [
    {
     "name": "stdout",
     "output_type": "stream",
     "text": [
      "[0.  0.5 1.  1.5 2.  2.5 3.  3.5 4.  4.5 5.  5.5 6. ]\n",
      "[0.0, 3.9312894165544643, 6.900062075424751, 8.179458890153246, 7.4562388999705895, 4.907471581652444, 1.157184066090911, -2.8764224670548826, -6.205780461525011, -8.015746964853795, -7.863179052237735, -5.785430669677213, -2.291207085231192]\n"
     ]
    }
   ],
   "source": [
    "## transcrever aqui as tabelas de valores de x e y dados no exercicio\n",
    "\n",
    "arr_x = np.arange(0,np.pi*2+0.0001,0.5)\n",
    "\n",
    "def filly(arr_x):\n",
    "    arr_y = []\n",
    "    for x in arr_x:\n",
    "        arr_y.append(8.2*np.sin(x))\n",
    "    return arr_y\n",
    "\n",
    "arr_y = filly(arr_x)\n",
    "print(arr_x)\n",
    "print(arr_y)"
   ]
  },
  {
   "cell_type": "code",
   "execution_count": 16,
   "metadata": {},
   "outputs": [],
   "source": [
    "\n",
    "\n",
    "def fillmg(dicionarioFuncoes, arr_x):\n",
    "    matrizGtrans = []\n",
    "    for i in range(2):\n",
    "        f = dicionarioFuncoes[i]\n",
    "        tmpArr = []\n",
    "        for x in arr_x:\n",
    "            tmpArr.append(f(x))\n",
    "        matrizGtrans.append(tmpArr)\n",
    "    matrizGtransnp = np.array(matrizGtrans)\n",
    "    return matrizGtransnp\n",
    "\n",
    "\n",
    "matrizG = fillmg(dicionarioFuncoes,arr_x)"
   ]
  },
  {
   "cell_type": "code",
   "execution_count": 17,
   "metadata": {},
   "outputs": [
    {
     "name": "stdout",
     "output_type": "stream",
     "text": [
      "[[1 0]\n",
      " [1 0]\n",
      " [1 0]\n",
      " [1 0]\n",
      " [1 0]\n",
      " [1 0]\n",
      " [1 0]\n",
      " [0 1]\n",
      " [0 1]\n",
      " [0 1]\n",
      " [0 1]\n",
      " [0 1]\n",
      " [0 1]]\n"
     ]
    }
   ],
   "source": [
    "print(matrizG.transpose())"
   ]
  },
  {
   "cell_type": "code",
   "execution_count": 18,
   "metadata": {},
   "outputs": [
    {
     "name": "stderr",
     "output_type": "stream",
     "text": [
      "<ipython-input-18-ce17fc54e010>:1: FutureWarning: `rcond` parameter will change to the default of machine precision times ``max(M, N)`` where M and N are the input matrix dimensions.\n",
      "To use the future default and silence this warning we advise to pass `rcond=None`, to keep using the old, explicitly pass `rcond=-1`.\n",
      "  x, residuals, rank, s= np.linalg.lstsq(matrizG.transpose(),arr_y)\n"
     ]
    }
   ],
   "source": [
    "x, residuals, rank, s= np.linalg.lstsq(matrizG.transpose(),arr_y)"
   ]
  },
  {
   "cell_type": "code",
   "execution_count": 19,
   "metadata": {},
   "outputs": [
    {
     "name": "stdout",
     "output_type": "stream",
     "text": [
      "[ 4.64738642 -5.50629445]\n",
      "[89.47235609]\n"
     ]
    }
   ],
   "source": [
    "print(x)\n",
    "print(residuals)"
   ]
  },
  {
   "cell_type": "code",
   "execution_count": null,
   "metadata": {},
   "outputs": [],
   "source": []
  }
 ],
 "metadata": {
  "kernelspec": {
   "display_name": "Python 3",
   "language": "python",
   "name": "python3"
  },
  "language_info": {
   "codemirror_mode": {
    "name": "ipython",
    "version": 3
   },
   "file_extension": ".py",
   "mimetype": "text/x-python",
   "name": "python",
   "nbconvert_exporter": "python",
   "pygments_lexer": "ipython3",
   "version": "3.8.5"
  }
 },
 "nbformat": 4,
 "nbformat_minor": 4
}
