{
 "cells": [
  {
   "cell_type": "code",
   "execution_count": 10,
   "metadata": {},
   "outputs": [],
   "source": [
    "import numpy as np\n",
    "import math"
   ]
  },
  {
   "cell_type": "code",
   "execution_count": 11,
   "metadata": {},
   "outputs": [],
   "source": [
    "def bisseccao(min_i,max_i):\n",
    "    \n",
    "    med_i = (max_i +min_i)/2\n",
    "    var_med = {'x':med_i}\n",
    "    #definir abaixo a função\n",
    "    temp = np.sqrt(med_i) - np.cos(med_i)\n",
    "    print(temp)\n",
    "    "
   ]
  },
  {
   "cell_type": "code",
   "execution_count": 13,
   "metadata": {},
   "outputs": [
    {
     "name": "stdout",
     "output_type": "stream",
     "text": [
      "-0.17047578070382519\n"
     ]
    }
   ],
   "source": [
    "bisseccao(0,1)"
   ]
  },
  {
   "cell_type": "code",
   "execution_count": null,
   "metadata": {},
   "outputs": [],
   "source": [
    "def bissec_recursive(min_i,max_i,count):\n",
    "    med_i = (max_i +min_i)/2\n",
    "    var_med = {'x':med_i}\n",
    "    #definir abaixo a função\n",
    "    med_f = np.sqrt(med_i) - np.cos(med_i)\n",
    "    max_f = np.sqrt(max_i) - np.cos(max_i)\n",
    "    min_f = np.sqrt(min_i) - np.cos(min_i)\n",
    "    \n",
    "    \n",
    "    if(med_f*min_f < 0):\n",
    "        bissec_recursive(min_i,med_i,count-1)\n",
    "    elif(med_f*max_f < 0):\n",
    "        bissec_recursive(med_i,max_i,count-1)\n",
    "    elif(med_f == 0):\n",
    "        return\n",
    "    elif(count == 0):\n",
    "        return"
   ]
  }
 ],
 "metadata": {
  "kernelspec": {
   "display_name": "Python 3",
   "language": "python",
   "name": "python3"
  },
  "language_info": {
   "codemirror_mode": {
    "name": "ipython",
    "version": 3
   },
   "file_extension": ".py",
   "mimetype": "text/x-python",
   "name": "python",
   "nbconvert_exporter": "python",
   "pygments_lexer": "ipython3",
   "version": "3.8.2"
  }
 },
 "nbformat": 4,
 "nbformat_minor": 4
}
